{
 "cells": [
  {
   "cell_type": "code",
   "execution_count": 1,
   "metadata": {},
   "outputs": [],
   "source": [
    "import os\n",
    "from PIL import Image\n",
    "from array import *\n",
    "from random import shuffle"
   ]
  },
  {
   "cell_type": "code",
   "execution_count": 4,
   "metadata": {},
   "outputs": [],
   "source": [
    "# Load from and save to\n",
    "Names = [['./data/trainning','./data/converted/train'], ['./data/testing','./data/converted/test']]"
   ]
  },
  {
   "cell_type": "code",
   "execution_count": null,
   "metadata": {},
   "outputs": [],
   "source": []
  },
  {
   "cell_type": "code",
   "execution_count": 5,
   "metadata": {},
   "outputs": [
    {
     "name": "stdout",
     "output_type": "stream",
     "text": [
      "./data/trainning/0/0.png\n",
      "250 250\n",
      "./data/testing/0/im1.png\n",
      "250 250\n"
     ]
    }
   ],
   "source": [
    "for name in Names:\n",
    "\n",
    "    data_image = array('B')\n",
    "    data_label = array('B')\n",
    "\n",
    "    FileList = []\n",
    "    for dirname in os.listdir(name[0]): # [1:] Excludes .DS_Store from Mac OS\n",
    "        path = os.path.join(name[0],dirname)\n",
    "        for filename in os.listdir(path):\n",
    "            if filename.endswith(\".png\"):\n",
    "                FileList.append(os.path.join(name[0],dirname,filename))\n",
    "        \n",
    "    shuffle(FileList) # Usefull for further segmenting the validation set\n",
    "\n",
    "    for filename in FileList:\n",
    "        print(filename)\n",
    "        #label = int(filename.split('/')[2])\n",
    "        label = int(0)\n",
    "\n",
    "        Im = Image.open(filename)\n",
    "\n",
    "        pixel = Im.load()\n",
    "\n",
    "        width, height = Im.size\n",
    "        print(width, height)\n",
    "        for x in range(0,width):\n",
    "            for y in range(0,height):\n",
    "                #data_image.append(pixel[y,x])\n",
    "                data_image.append(pixel[y, x] [0])\n",
    "\n",
    "        data_label.append(label) # labels start (one unsigned byte each)\n",
    "\n",
    "    hexval = \"{0:#0{1}x}\".format(len(FileList),6) # number of files in HEX\n",
    "\n",
    "    # header for label array\n",
    "\n",
    "    header = array('B')\n",
    "    header.extend([0,0,8,1,0,0])\n",
    "    header.append(int('0x'+hexval[2:][:2],16))\n",
    "    header.append(int('0x'+hexval[2:][2:],16))\n",
    "\t\n",
    "    data_label = header + data_label\n",
    "\n",
    "    # additional header for images array\n",
    "\n",
    "    if max([width,height]) <= 256:\n",
    "        header.extend([0,0,0,width,0,0,0,height])\n",
    "    else:\n",
    "        raise ValueError('Image exceeds maximum size: 256x256 pixels');\n",
    "\n",
    "    header[3] = 3 # Changing MSB for image data (0x00000803)\n",
    "\n",
    "    data_image = header + data_image\n",
    "\n",
    "    output_file = open(name[1]+'-images-idx3-ubyte', 'wb')\n",
    "    data_image.tofile(output_file)\n",
    "    output_file.close()\n",
    "\n",
    "    output_file = open(name[1]+'-labels-idx1-ubyte', 'wb')\n",
    "    data_label.tofile(output_file)\n",
    "    output_file.close()\n",
    "\n",
    "# gzip resulting files\n",
    "\n",
    "for name in Names:\n",
    "    os.system('gzip '+name[1]+'-images-idx3-ubyte')\n",
    "    os.system('gzip '+name[1]+'-labels-idx1-ubyte')"
   ]
  }
 ],
 "metadata": {
  "kernelspec": {
   "display_name": "Python 3",
   "language": "python",
   "name": "python3"
  },
  "language_info": {
   "codemirror_mode": {
    "name": "ipython",
    "version": 3
   },
   "file_extension": ".py",
   "mimetype": "text/x-python",
   "name": "python",
   "nbconvert_exporter": "python",
   "pygments_lexer": "ipython3",
   "version": "3.5.3"
  }
 },
 "nbformat": 4,
 "nbformat_minor": 4
}
